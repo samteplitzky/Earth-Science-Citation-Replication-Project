{
 "cells": [
  {
   "cell_type": "markdown",
   "metadata": {},
   "source": [
    "## Steps for taking a sample of citation data"
   ]
  },
  {
   "cell_type": "code",
   "execution_count": null,
   "metadata": {},
   "outputs": [],
   "source": [
    "import csv\n",
    "import pandas as pd\n",
    "import re\n",
    "import os\n",
    "import json\n",
    "import requests"
   ]
  },
  {
   "cell_type": "markdown",
   "metadata": {},
   "source": [
    "### Import file\n",
    "Next, import the csv file that includes your records from Web of Science."
   ]
  },
  {
   "cell_type": "code",
   "execution_count": null,
   "metadata": {},
   "outputs": [],
   "source": [
    "#Import csv\n",
    "\n",
    "#Create a dataframe (ie. table) and recreate the code below\n",
    "\n",
    "#Your path to your file might be different depending on where it is on your machine.\n",
    "#Example:\n",
    "#ucb_data = pd.read_csv(\"Berkeley_References.csv\")\n",
    "#ucb_data\n",
    "\n",
    "data = pd.read_csv(\"Institution_Reference_Files/Boulder_References.csv\", encoding='ISO-8859-1')\n",
    "data"
   ]
  },
  {
   "cell_type": "markdown",
   "metadata": {},
   "source": [
    "### Create a sample"
   ]
  },
  {
   "cell_type": "markdown",
   "metadata": {},
   "source": [
    "Our total number of records is: 17648  \n",
    "Let's compute the proportion of the total for each institution."
   ]
  },
  {
   "cell_type": "code",
   "execution_count": null,
   "metadata": {},
   "outputs": [],
   "source": [
    "total = 7439 + 5002 + 3862 + 1344\n",
    "CUB = 7439/total\n",
    "UCB = 5002/total\n",
    "UCLA = 3862/total\n",
    "UH = 1349/total\n",
    "\n",
    "print('Total = ',total)\n",
    "print('CUB = ',CUB)\n",
    "print('UCB = ',UCB)\n",
    "print('UCLA = ',UCLA)\n",
    "print('UH = ',UH)"
   ]
  },
  {
   "cell_type": "markdown",
   "metadata": {},
   "source": [
    "|Institution | Number of Records | Proportion of Total | Sample (n = 1000)|\n",
    "|:--- | ---: | ---: | ---: |\n",
    "|CU Boulder | 7439 | .42 | 420|\n",
    "|UC Berkeley | 5002 | .28 | 280|\n",
    "|UCLA | 3862 | .22 | 220 |\n",
    "|UH | 1349 | .08 | 80 |\n",
    "\n",
    "By using `dataframe.sample`, we can generate a random sample. Our total sample will be 1000 records.\n",
    "Create your sample based on your institution's proportion of the whole set of records. Use that proportion to calculate your n out of 1000."
   ]
  },
  {
   "cell_type": "code",
   "execution_count": null,
   "metadata": {},
   "outputs": [],
   "source": [
    "#Example:\n",
    "#ucb_sample = ucb_data.sample(n = 280)\n",
    "#ucb_sample\n",
    "\n",
    "CUB_Sample = data.sample(n = 420)\n",
    "CUB_Sample['INSTITUTION'] = 'CUBoulder'\n",
    "CUB_Sample"
   ]
  },
  {
   "cell_type": "markdown",
   "metadata": {},
   "source": [
    "### Export your file"
   ]
  },
  {
   "cell_type": "code",
   "execution_count": null,
   "metadata": {},
   "outputs": [],
   "source": [
    "#Export csv\n",
    "\n",
    "CUB_Sample.to_csv('cub_sample.csv')"
   ]
  },
  {
   "cell_type": "markdown",
   "metadata": {},
   "source": [
    "Last, share your exported file in the google drive folder."
   ]
  }
 ],
 "metadata": {
  "kernelspec": {
   "display_name": "Python 3",
   "language": "python",
   "name": "python3"
  },
  "language_info": {
   "codemirror_mode": {
    "name": "ipython",
    "version": 3
   },
   "file_extension": ".py",
   "mimetype": "text/x-python",
   "name": "python",
   "nbconvert_exporter": "python",
   "pygments_lexer": "ipython3",
   "version": "3.7.6"
  }
 },
 "nbformat": 4,
 "nbformat_minor": 4
}